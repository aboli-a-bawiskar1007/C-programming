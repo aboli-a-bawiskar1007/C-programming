{
  "nbformat": 4,
  "nbformat_minor": 0,
  "metadata": {
    "colab": {
      "provenance": [],
      "authorship_tag": "ABX9TyObni+tAykgu6S6BfBlYI67",
      "include_colab_link": true
    },
    "kernelspec": {
      "name": "python3",
      "display_name": "Python 3"
    },
    "language_info": {
      "name": "python"
    }
  },
  "cells": [
    {
      "cell_type": "markdown",
      "metadata": {
        "id": "view-in-github",
        "colab_type": "text"
      },
      "source": [
        "<a href=\"https://colab.research.google.com/github/aboli-a-bawiskar1007/Data-Projects/blob/master/Desi_Meal_recommender_NLU.ipynb\" target=\"_parent\"><img src=\"https://colab.research.google.com/assets/colab-badge.svg\" alt=\"Open In Colab\"/></a>"
      ]
    },
    {
      "cell_type": "code",
      "source": [
        "# Step 1: Install necessary packages (run this cell once)\n",
        "!pip install streamlit textblob pyngrok --quiet\n",
        "!python -m textblob.download_corpora  # download corpora needed for sentiment"
      ],
      "metadata": {
        "colab": {
          "base_uri": "https://localhost:8080/"
        },
        "id": "Jhrfa12bJPsY",
        "outputId": "89ecfb2e-9e98-4e8e-8f8f-40ec4f2d3289"
      },
      "execution_count": null,
      "outputs": [
        {
          "output_type": "stream",
          "name": "stdout",
          "text": [
            "[nltk_data] Downloading package brown to /root/nltk_data...\n",
            "[nltk_data]   Package brown is already up-to-date!\n",
            "[nltk_data] Downloading package punkt_tab to /root/nltk_data...\n",
            "[nltk_data]   Package punkt_tab is already up-to-date!\n",
            "[nltk_data] Downloading package wordnet to /root/nltk_data...\n",
            "[nltk_data]   Package wordnet is already up-to-date!\n",
            "[nltk_data] Downloading package averaged_perceptron_tagger_eng to\n",
            "[nltk_data]     /root/nltk_data...\n",
            "[nltk_data]   Package averaged_perceptron_tagger_eng is already up-to-\n",
            "[nltk_data]       date!\n",
            "[nltk_data] Downloading package conll2000 to /root/nltk_data...\n",
            "[nltk_data]   Package conll2000 is already up-to-date!\n",
            "[nltk_data] Downloading package movie_reviews to /root/nltk_data...\n",
            "[nltk_data]   Package movie_reviews is already up-to-date!\n",
            "Finished.\n"
          ]
        }
      ]
    },
    {
      "cell_type": "code",
      "source": [
        "# Step 2: Import required libraries\n",
        "import streamlit as st\n",
        "from textblob import TextBlob\n",
        "from pyngrok import ngrok"
      ],
      "metadata": {
        "id": "Fn4vq2kvJSw8"
      },
      "execution_count": null,
      "outputs": []
    },
    {
      "cell_type": "code",
      "source": [
        "# Step 3: Define your meal database with categories\n",
        "meal_db = {\n",
        "    \"spicy\": [\"Paneer Tikka\", \"Masala Papad\", \"Mirchi Bajji\"],\n",
        "    \"sweet\": [\"Gulab Jamun\", \"Rasgulla\", \"Jalebi\"],\n",
        "    \"quick snack\": [\"Poha\", \"Upma\", \"Samosa\"],\n",
        "    \"breakfast\": [\"Idli\", \"Dosa\", \"Paratha\"],\n",
        "    \"comfort\": [\"Khichdi\", \"Dal Chawal\", \"Kadhi Pakora\"],\n",
        "    \"neutral\": [\"Chapati and Sabzi\", \"Rice and Dal\"]\n",
        "}"
      ],
      "metadata": {
        "id": "uWUhOTsrJVXO"
      },
      "execution_count": null,
      "outputs": []
    },
    {
      "cell_type": "code",
      "source": [
        "# Step 4: Define a function to recommend meals based on craving and sentiment\n",
        "def recommend_meal(craving, sentiment_score):\n",
        "    craving_lower = craving.lower()\n",
        "\n",
        "    # Keyword matching to identify craving type\n",
        "    if \"spicy\" in craving_lower:\n",
        "        key = \"spicy\"\n",
        "    elif \"sweet\" in craving_lower:\n",
        "        key = \"sweet\"\n",
        "    elif \"snack\" in craving_lower or \"quick\" in craving_lower:\n",
        "        key = \"quick snack\"\n",
        "    elif \"breakfast\" in craving_lower:\n",
        "        key = \"breakfast\"\n",
        "    else:\n",
        "        key = \"neutral\"\n",
        "\n",
        "    # Suggest comfort food if sentiment is negative\n",
        "    if sentiment_score < -0.1:\n",
        "        key = \"comfort\"\n",
        "\n",
        "    # Return up to two recommendations\n",
        "    recommendations = meal_db.get(key, [\"Chapati and Sabzi\"])\n",
        "    return recommendations[:2]"
      ],
      "metadata": {
        "id": "zPtecpnjJZLr"
      },
      "execution_count": null,
      "outputs": []
    },
    {
      "cell_type": "code",
      "source": [
        "# Step 5: Build Streamlit app UI and logic\n",
        "def main():\n",
        "    st.title(\"🍽️ AI-powered Indian Meal Recommender\")\n",
        "\n",
        "    # User input text box for craving description\n",
        "    craving = st.text_input(\"Describe what you're craving:\")\n",
        "\n",
        "    if craving:\n",
        "        st.write(f\"Your craving is: {craving}\")\n",
        "\n",
        "        # Sentiment analysis using TextBlob\n",
        "        blob = TextBlob(craving)\n",
        "        sentiment_score = blob.sentiment.polarity\n",
        "\n",
        "        # Classify sentiment as positive, neutral, or negative\n",
        "        if sentiment_score > 0.1:\n",
        "            sentiment = \"Positive 😊\"\n",
        "        elif sentiment_score < -0.1:\n",
        "            sentiment = \"Negative 😞\"\n",
        "        else:\n",
        "            sentiment = \"Neutral 😐\"\n",
        "\n",
        "        #st.write(f\"Sentiment score: {sentiment_score:.2f} ({sentiment})\")\n",
        "\n",
        "        # Get meal recommendations based on craving and sentiment\n",
        "        meals = recommend_meal(craving, sentiment_score)\n",
        "        st.write(\"Based on your craving and mood, we suggest:\")\n",
        "        for meal in meals:\n",
        "            st.markdown(f\"🍽️ **{meal}**\")"
      ],
      "metadata": {
        "id": "rA5LRmK3JcX5"
      },
      "execution_count": null,
      "outputs": []
    },
    {
      "cell_type": "code",
      "source": [
        "# Step 6: Save the app to a file for Streamlit\n",
        "with open(\"app.py\", \"w\") as f:\n",
        "    f.write(\"\"\"\n",
        "import streamlit as st\n",
        "from textblob import TextBlob\n",
        "\n",
        "meal_db = {\n",
        "    \"spicy\": [\"Paneer Tikka\", \"Masala Papad\", \"Mirchi Bajji\"],\n",
        "    \"sweet\": [\"Gulab Jamun\", \"Rasgulla\", \"Jalebi\"],\n",
        "    \"quick snack\": [\"Poha\", \"Upma\", \"Samosa\"],\n",
        "    \"breakfast\": [\"Idli\", \"Dosa\", \"Paratha\"],\n",
        "    \"comfort\": [\"Khichdi\", \"Dal Chawal\", \"Kadhi Pakora\"],\n",
        "    \"neutral\": [\"Chapati and Sabzi\", \"Rice and Dal\"]\n",
        "}\n",
        "\n",
        "def recommend_meal(craving, sentiment_score):\n",
        "    craving_lower = craving.lower()\n",
        "    if \"spicy\" in craving_lower:\n",
        "        key = \"spicy\"\n",
        "    elif \"sweet\" in craving_lower:\n",
        "        key = \"sweet\"\n",
        "    elif \"snack\" in craving_lower or \"quick\" in craving_lower:\n",
        "        key = \"quick snack\"\n",
        "    elif \"breakfast\" in craving_lower:\n",
        "        key = \"breakfast\"\n",
        "    else:\n",
        "        key = \"neutral\"\n",
        "    if sentiment_score < -0.1:\n",
        "        key = \"comfort\"\n",
        "    recommendations = meal_db.get(key, [\"Chapati and Sabzi\"])\n",
        "    return recommendations[:2]\n",
        "\n",
        "def main():\n",
        "    st.title(\"🍽️ AI-powered Indian Meal Recommender\")\n",
        "    craving = st.text_input(\"Describe what you're craving:\")\n",
        "    if craving:\n",
        "        st.write(f\"Your craving is: {craving}\")\n",
        "        blob = TextBlob(craving)\n",
        "        sentiment_score = blob.sentiment.polarity\n",
        "        if sentiment_score > 0.1:\n",
        "            sentiment = \"Positive 😊\"\n",
        "        elif sentiment_score < -0.1:\n",
        "            sentiment = \"Negative 😞\"\n",
        "        else:\n",
        "            sentiment = \"Neutral 😐\"\n",
        "        st.write(f\"Sentiment score: {sentiment_score:.2f} ({sentiment})\")\n",
        "        meals = recommend_meal(craving, sentiment_score)\n",
        "        st.write(\"Based on your craving and mood, we suggest:\")\n",
        "        for meal in meals:\n",
        "            st.markdown(f\"🍽️ **{meal}**\")\n",
        "\n",
        "if __name__ == \"__main__\":\n",
        "    main()\n",
        "\"\"\")"
      ],
      "metadata": {
        "id": "8rwdM129JiJK"
      },
      "execution_count": null,
      "outputs": []
    },
    {
      "cell_type": "code",
      "source": [
        "# Step 7: Expose the Streamlit app to the internet using ngrok\n",
        "public_url = ngrok.connect(8501)\n",
        "print(f\"🔗 Your Streamlit app is live at: {public_url}\")\n",
        "\n"
      ],
      "metadata": {
        "colab": {
          "base_uri": "https://localhost:8080/"
        },
        "id": "-kdDw2W8JmD8",
        "outputId": "542d3d14-4c7b-4647-e7bc-18d5a3d34fe9"
      },
      "execution_count": null,
      "outputs": [
        {
          "output_type": "stream",
          "name": "stdout",
          "text": [
            "🔗 Your Streamlit app is live at: NgrokTunnel: \"https://4250-34-73-110-245.ngrok-free.app\" -> \"http://localhost:8501\"\n"
          ]
        }
      ]
    },
    {
      "cell_type": "code",
      "source": [
        "# Step 8: Run the Streamlit app (blocking call)\n",
        "!streamlit run app.py"
      ],
      "metadata": {
        "colab": {
          "base_uri": "https://localhost:8080/"
        },
        "id": "3qUhIovAJsCj",
        "outputId": "6e85d904-ccfe-41a8-dbd6-40f8a78a7f4b"
      },
      "execution_count": null,
      "outputs": [
        {
          "output_type": "stream",
          "name": "stdout",
          "text": [
            "\n",
            "Collecting usage statistics. To deactivate, set browser.gatherUsageStats to false.\n",
            "\u001b[0m\n",
            "\u001b[0m\n",
            "\u001b[34m\u001b[1m  You can now view your Streamlit app in your browser.\u001b[0m\n",
            "\u001b[0m\n",
            "\u001b[34m  Local URL: \u001b[0m\u001b[1mhttp://localhost:8501\u001b[0m\n",
            "\u001b[34m  Network URL: \u001b[0m\u001b[1mhttp://172.28.0.12:8501\u001b[0m\n",
            "\u001b[34m  External URL: \u001b[0m\u001b[1mhttp://34.73.110.245:8501\u001b[0m\n",
            "\u001b[0m\n",
            "\u001b[34m  Stopping...\u001b[0m\n",
            "^C\n"
          ]
        }
      ]
    }
  ]
}