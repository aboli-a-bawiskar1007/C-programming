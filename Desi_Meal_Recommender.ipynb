{
  "nbformat": 4,
  "nbformat_minor": 0,
  "metadata": {
    "colab": {
      "provenance": [],
      "authorship_tag": "ABX9TyOsdFW7dKe4tyGaAbaUM913",
      "include_colab_link": true
    },
    "kernelspec": {
      "name": "python3",
      "display_name": "Python 3"
    },
    "language_info": {
      "name": "python"
    }
  },
  "cells": [
    {
      "cell_type": "markdown",
      "metadata": {
        "id": "view-in-github",
        "colab_type": "text"
      },
      "source": [
        "<a href=\"https://colab.research.google.com/github/aboli-a-bawiskar1007/C-programming/blob/master/Desi_Meal_Recommender.ipynb\" target=\"_parent\"><img src=\"https://colab.research.google.com/assets/colab-badge.svg\" alt=\"Open In Colab\"/></a>"
      ]
    },
    {
      "cell_type": "code",
      "source": [
        "!pip install streamlit pyngrok\n",
        "\n"
      ],
      "metadata": {
        "colab": {
          "base_uri": "https://localhost:8080/"
        },
        "id": "IHiOutbVeKOP",
        "outputId": "b0bd281f-ae02-44f3-cf1b-02dde1fa9f1a"
      },
      "execution_count": null,
      "outputs": [
        {
          "output_type": "stream",
          "name": "stdout",
          "text": [
            "Requirement already satisfied: streamlit in /usr/local/lib/python3.11/dist-packages (1.45.1)\n",
            "Requirement already satisfied: pyngrok in /usr/local/lib/python3.11/dist-packages (7.2.11)\n",
            "Requirement already satisfied: altair<6,>=4.0 in /usr/local/lib/python3.11/dist-packages (from streamlit) (5.5.0)\n",
            "Requirement already satisfied: blinker<2,>=1.5.0 in /usr/local/lib/python3.11/dist-packages (from streamlit) (1.9.0)\n",
            "Requirement already satisfied: cachetools<6,>=4.0 in /usr/local/lib/python3.11/dist-packages (from streamlit) (5.5.2)\n",
            "Requirement already satisfied: click<9,>=7.0 in /usr/local/lib/python3.11/dist-packages (from streamlit) (8.2.1)\n",
            "Requirement already satisfied: numpy<3,>=1.23 in /usr/local/lib/python3.11/dist-packages (from streamlit) (2.0.2)\n",
            "Requirement already satisfied: packaging<25,>=20 in /usr/local/lib/python3.11/dist-packages (from streamlit) (24.2)\n",
            "Requirement already satisfied: pandas<3,>=1.4.0 in /usr/local/lib/python3.11/dist-packages (from streamlit) (2.2.2)\n",
            "Requirement already satisfied: pillow<12,>=7.1.0 in /usr/local/lib/python3.11/dist-packages (from streamlit) (11.2.1)\n",
            "Requirement already satisfied: protobuf<7,>=3.20 in /usr/local/lib/python3.11/dist-packages (from streamlit) (5.29.5)\n",
            "Requirement already satisfied: pyarrow>=7.0 in /usr/local/lib/python3.11/dist-packages (from streamlit) (18.1.0)\n",
            "Requirement already satisfied: requests<3,>=2.27 in /usr/local/lib/python3.11/dist-packages (from streamlit) (2.32.3)\n",
            "Requirement already satisfied: tenacity<10,>=8.1.0 in /usr/local/lib/python3.11/dist-packages (from streamlit) (9.1.2)\n",
            "Requirement already satisfied: toml<2,>=0.10.1 in /usr/local/lib/python3.11/dist-packages (from streamlit) (0.10.2)\n",
            "Requirement already satisfied: typing-extensions<5,>=4.4.0 in /usr/local/lib/python3.11/dist-packages (from streamlit) (4.14.0)\n",
            "Requirement already satisfied: watchdog<7,>=2.1.5 in /usr/local/lib/python3.11/dist-packages (from streamlit) (6.0.0)\n",
            "Requirement already satisfied: gitpython!=3.1.19,<4,>=3.0.7 in /usr/local/lib/python3.11/dist-packages (from streamlit) (3.1.44)\n",
            "Requirement already satisfied: pydeck<1,>=0.8.0b4 in /usr/local/lib/python3.11/dist-packages (from streamlit) (0.9.1)\n",
            "Requirement already satisfied: tornado<7,>=6.0.3 in /usr/local/lib/python3.11/dist-packages (from streamlit) (6.4.2)\n",
            "Requirement already satisfied: PyYAML>=5.1 in /usr/local/lib/python3.11/dist-packages (from pyngrok) (6.0.2)\n",
            "Requirement already satisfied: jinja2 in /usr/local/lib/python3.11/dist-packages (from altair<6,>=4.0->streamlit) (3.1.6)\n",
            "Requirement already satisfied: jsonschema>=3.0 in /usr/local/lib/python3.11/dist-packages (from altair<6,>=4.0->streamlit) (4.24.0)\n",
            "Requirement already satisfied: narwhals>=1.14.2 in /usr/local/lib/python3.11/dist-packages (from altair<6,>=4.0->streamlit) (1.42.0)\n",
            "Requirement already satisfied: gitdb<5,>=4.0.1 in /usr/local/lib/python3.11/dist-packages (from gitpython!=3.1.19,<4,>=3.0.7->streamlit) (4.0.12)\n",
            "Requirement already satisfied: python-dateutil>=2.8.2 in /usr/local/lib/python3.11/dist-packages (from pandas<3,>=1.4.0->streamlit) (2.9.0.post0)\n",
            "Requirement already satisfied: pytz>=2020.1 in /usr/local/lib/python3.11/dist-packages (from pandas<3,>=1.4.0->streamlit) (2025.2)\n",
            "Requirement already satisfied: tzdata>=2022.7 in /usr/local/lib/python3.11/dist-packages (from pandas<3,>=1.4.0->streamlit) (2025.2)\n",
            "Requirement already satisfied: charset-normalizer<4,>=2 in /usr/local/lib/python3.11/dist-packages (from requests<3,>=2.27->streamlit) (3.4.2)\n",
            "Requirement already satisfied: idna<4,>=2.5 in /usr/local/lib/python3.11/dist-packages (from requests<3,>=2.27->streamlit) (3.10)\n",
            "Requirement already satisfied: urllib3<3,>=1.21.1 in /usr/local/lib/python3.11/dist-packages (from requests<3,>=2.27->streamlit) (2.4.0)\n",
            "Requirement already satisfied: certifi>=2017.4.17 in /usr/local/lib/python3.11/dist-packages (from requests<3,>=2.27->streamlit) (2025.4.26)\n",
            "Requirement already satisfied: smmap<6,>=3.0.1 in /usr/local/lib/python3.11/dist-packages (from gitdb<5,>=4.0.1->gitpython!=3.1.19,<4,>=3.0.7->streamlit) (5.0.2)\n",
            "Requirement already satisfied: MarkupSafe>=2.0 in /usr/local/lib/python3.11/dist-packages (from jinja2->altair<6,>=4.0->streamlit) (3.0.2)\n",
            "Requirement already satisfied: attrs>=22.2.0 in /usr/local/lib/python3.11/dist-packages (from jsonschema>=3.0->altair<6,>=4.0->streamlit) (25.3.0)\n",
            "Requirement already satisfied: jsonschema-specifications>=2023.03.6 in /usr/local/lib/python3.11/dist-packages (from jsonschema>=3.0->altair<6,>=4.0->streamlit) (2025.4.1)\n",
            "Requirement already satisfied: referencing>=0.28.4 in /usr/local/lib/python3.11/dist-packages (from jsonschema>=3.0->altair<6,>=4.0->streamlit) (0.36.2)\n",
            "Requirement already satisfied: rpds-py>=0.7.1 in /usr/local/lib/python3.11/dist-packages (from jsonschema>=3.0->altair<6,>=4.0->streamlit) (0.25.1)\n",
            "Requirement already satisfied: six>=1.5 in /usr/local/lib/python3.11/dist-packages (from python-dateutil>=2.8.2->pandas<3,>=1.4.0->streamlit) (1.17.0)\n"
          ]
        }
      ]
    },
    {
      "cell_type": "code",
      "source": [
        "import streamlit as st\n",
        "import pandas as pd\n",
        "import itertools\n",
        "import random\n",
        "\n",
        "# 🔧 Define ingredient pool and attributes\n",
        "ingredients = [\n",
        "    'potato', 'cumin', 'chili', 'poha', 'onion', 'mustard seed',\n",
        "    'rice', 'dal', 'ghee', 'wheat', 'tomato', 'tamarind'\n",
        "]\n",
        "\n",
        "tastes = ['spicy', 'mild', 'savory', 'tangy', 'creamy']\n",
        "meals = ['breakfast', 'lunch', 'dinner']\n",
        "moods = ['lazy', 'energetic', 'busy', 'tired', 'sick']\n",
        "\n",
        "# 🍽️ Generate a synthetic dataset of Indian-style dishes\n",
        "combos = []\n",
        "for r in range(2, 4):\n",
        "    combos.extend(itertools.combinations(ingredients, r))\n",
        "\n",
        "synthetic_dishes = []\n",
        "for combo in combos:\n",
        "    dish_name = \" & \".join([word.capitalize() for word in combo])\n",
        "    taste = random.choice(tastes)\n",
        "    meal = random.choice(meals)\n",
        "    mood = random.choice(moods)\n",
        "    time = random.randint(10, 45)\n",
        "    recipe = f\"Combine {', '.join(combo)} with spices. Cook until done.\"\n",
        "\n",
        "    synthetic_dishes.append({\n",
        "        \"Dish\": dish_name,\n",
        "        \"Ingredients\": \", \".join(combo),\n",
        "        \"Taste\": taste,\n",
        "        \"Time\": time,\n",
        "        \"Mood\": mood,\n",
        "        \"Meal\": meal,\n",
        "        \"Recipe\": recipe\n",
        "    })\n",
        "\n",
        "df_synthetic = pd.DataFrame(synthetic_dishes)\n",
        "\n",
        "# 🧠 Recommendation logic with relaxed filtering\n",
        "def recommend_dish(selected_ingredients, mood=None, taste=None, meal=None, min_match_ratio=0.5):\n",
        "    selected_set = set([ing.lower().strip() for ing in selected_ingredients])\n",
        "\n",
        "    filter_steps = [\n",
        "        {\"Mood\": mood, \"Taste\": taste, \"Meal\": meal},\n",
        "        {\"Mood\": mood, \"Taste\": taste, \"Meal\": None},\n",
        "        {\"Mood\": mood, \"Taste\": None, \"Meal\": None},\n",
        "        {\"Mood\": None, \"Taste\": None, \"Meal\": None},\n",
        "    ]\n",
        "\n",
        "    for f in filter_steps:\n",
        "        filtered = df_synthetic\n",
        "        if f[\"Mood\"] and f[\"Mood\"] != \"Any\":\n",
        "            filtered = filtered[filtered['Mood'] == f[\"Mood\"]]\n",
        "        if f[\"Taste\"] and f[\"Taste\"] != \"Any\":\n",
        "            filtered = filtered[filtered['Taste'] == f[\"Taste\"]]\n",
        "        if f[\"Meal\"] and f[\"Meal\"] != \"Any\":\n",
        "            filtered = filtered[filtered['Meal'] == f[\"Meal\"]]\n",
        "\n",
        "        good_matches = []\n",
        "        for _, row in filtered.iterrows():\n",
        "            dish_ings = set([i.strip().lower() for i in row['Ingredients'].split(',')])\n",
        "            common = selected_set.intersection(dish_ings)\n",
        "            ratio = len(common) / len(dish_ings)\n",
        "            if ratio >= min_match_ratio:\n",
        "                good_matches.append((ratio, row))\n",
        "\n",
        "        if good_matches:\n",
        "            max_ratio = max([r for r, _ in good_matches])\n",
        "            top_matches = [row for r, row in good_matches if r == max_ratio]\n",
        "            return random.choice(top_matches)\n",
        "\n",
        "    return df_synthetic.sample(1).iloc[0]\n",
        "\n",
        "# 🖥️ Streamlit UI\n",
        "st.title(\"🍽️ Indian Meal Recommender\")\n",
        "\n",
        "selected_ingredients = st.multiselect(\"🧂 What ingredients do you have?\", options=ingredients)\n",
        "mood = st.selectbox(\"🧠 What's your mood?\", options=[\"Any\"] + moods)\n",
        "taste = st.selectbox(\"😋 Craving for what taste?\", options=[\"Any\"] + tastes)\n",
        "meal = st.selectbox(\"🍳 Meal type?\", options=[\"Any\"] + meals)\n",
        "\n",
        "if st.button(\"Recommend a Dish\"):\n",
        "    if not selected_ingredients:\n",
        "        st.warning(\"Please select at least one ingredient.\")\n",
        "    else:\n",
        "        recommendation = recommend_dish(selected_ingredients, mood, taste, meal, min_match_ratio=0.5)\n",
        "        st.subheader(f\"🍽️ Dish Recommendation: {recommendation['Dish']}\")\n",
        "        st.markdown(f\"**Ingredients:** {recommendation['Ingredients']}\")\n",
        "        st.markdown(f\"**Taste:** {recommendation['Taste']}\")\n",
        "        st.markdown(f\"**Meal:** {recommendation['Meal']}\")\n",
        "        st.markdown(f\"**Mood:** {recommendation['Mood']}\")\n",
        "        st.markdown(f\"**Estimated cooking time:** {recommendation['Time']} minutes\")\n",
        "        st.markdown(f\"**Recipe:** {recommendation['Recipe']}\")\n",
        "\n",
        "st.info(\"No YouTube video found, but try the written recipe above!\")\n"
      ],
      "metadata": {
        "colab": {
          "base_uri": "https://localhost:8080/"
        },
        "id": "GrT_qRjids3s",
        "outputId": "7000ce79-011c-4a0f-d557-ff72f3b6f4f8"
      },
      "execution_count": null,
      "outputs": [
        {
          "output_type": "stream",
          "name": "stderr",
          "text": [
            "2025-06-17 16:34:31.461 Thread 'MainThread': missing ScriptRunContext! This warning can be ignored when running in bare mode.\n",
            "2025-06-17 16:34:31.462 Thread 'MainThread': missing ScriptRunContext! This warning can be ignored when running in bare mode.\n",
            "2025-06-17 16:34:31.462 Thread 'MainThread': missing ScriptRunContext! This warning can be ignored when running in bare mode.\n",
            "2025-06-17 16:34:31.463 Thread 'MainThread': missing ScriptRunContext! This warning can be ignored when running in bare mode.\n",
            "2025-06-17 16:34:31.464 Thread 'MainThread': missing ScriptRunContext! This warning can be ignored when running in bare mode.\n",
            "2025-06-17 16:34:31.465 Thread 'MainThread': missing ScriptRunContext! This warning can be ignored when running in bare mode.\n",
            "2025-06-17 16:34:31.465 Thread 'MainThread': missing ScriptRunContext! This warning can be ignored when running in bare mode.\n",
            "2025-06-17 16:34:31.466 Thread 'MainThread': missing ScriptRunContext! This warning can be ignored when running in bare mode.\n",
            "2025-06-17 16:34:31.467 Thread 'MainThread': missing ScriptRunContext! This warning can be ignored when running in bare mode.\n",
            "2025-06-17 16:34:31.468 Thread 'MainThread': missing ScriptRunContext! This warning can be ignored when running in bare mode.\n",
            "2025-06-17 16:34:31.468 Thread 'MainThread': missing ScriptRunContext! This warning can be ignored when running in bare mode.\n",
            "2025-06-17 16:34:31.469 Thread 'MainThread': missing ScriptRunContext! This warning can be ignored when running in bare mode.\n",
            "2025-06-17 16:34:31.470 Thread 'MainThread': missing ScriptRunContext! This warning can be ignored when running in bare mode.\n",
            "2025-06-17 16:34:31.470 Thread 'MainThread': missing ScriptRunContext! This warning can be ignored when running in bare mode.\n",
            "2025-06-17 16:34:31.471 Thread 'MainThread': missing ScriptRunContext! This warning can be ignored when running in bare mode.\n",
            "2025-06-17 16:34:31.472 Thread 'MainThread': missing ScriptRunContext! This warning can be ignored when running in bare mode.\n",
            "2025-06-17 16:34:31.472 Thread 'MainThread': missing ScriptRunContext! This warning can be ignored when running in bare mode.\n",
            "2025-06-17 16:34:31.473 Thread 'MainThread': missing ScriptRunContext! This warning can be ignored when running in bare mode.\n",
            "2025-06-17 16:34:31.474 Thread 'MainThread': missing ScriptRunContext! This warning can be ignored when running in bare mode.\n",
            "2025-06-17 16:34:31.475 Thread 'MainThread': missing ScriptRunContext! This warning can be ignored when running in bare mode.\n",
            "2025-06-17 16:34:31.475 Thread 'MainThread': missing ScriptRunContext! This warning can be ignored when running in bare mode.\n",
            "2025-06-17 16:34:31.476 Thread 'MainThread': missing ScriptRunContext! This warning can be ignored when running in bare mode.\n",
            "2025-06-17 16:34:31.477 Thread 'MainThread': missing ScriptRunContext! This warning can be ignored when running in bare mode.\n",
            "2025-06-17 16:34:31.477 Thread 'MainThread': missing ScriptRunContext! This warning can be ignored when running in bare mode.\n",
            "2025-06-17 16:34:31.478 Thread 'MainThread': missing ScriptRunContext! This warning can be ignored when running in bare mode.\n",
            "2025-06-17 16:34:31.479 Thread 'MainThread': missing ScriptRunContext! This warning can be ignored when running in bare mode.\n",
            "2025-06-17 16:34:31.479 Thread 'MainThread': missing ScriptRunContext! This warning can be ignored when running in bare mode.\n",
            "2025-06-17 16:34:31.479 Thread 'MainThread': missing ScriptRunContext! This warning can be ignored when running in bare mode.\n",
            "2025-06-17 16:34:31.480 Thread 'MainThread': missing ScriptRunContext! This warning can be ignored when running in bare mode.\n",
            "2025-06-17 16:34:31.480 Thread 'MainThread': missing ScriptRunContext! This warning can be ignored when running in bare mode.\n",
            "2025-06-17 16:34:31.481 Thread 'MainThread': missing ScriptRunContext! This warning can be ignored when running in bare mode.\n",
            "2025-06-17 16:34:31.482 Thread 'MainThread': missing ScriptRunContext! This warning can be ignored when running in bare mode.\n"
          ]
        },
        {
          "output_type": "execute_result",
          "data": {
            "text/plain": [
              "DeltaGenerator()"
            ]
          },
          "metadata": {},
          "execution_count": 46
        }
      ]
    },
    {
      "cell_type": "code",
      "source": [
        "# 🚀 7. Run and expose the app via Ngrok (you only need to do this once)\n",
        "!ngrok config add-authtoken 2ydoRnAycN39XmeO8zo1lFOfjcK_2ZEVoS7UmzmDqmsFHiW25\n"
      ],
      "metadata": {
        "colab": {
          "base_uri": "https://localhost:8080/"
        },
        "id": "59sbJmgxgW2y",
        "outputId": "14d09964-da97-4b8f-fa15-a80118862710"
      },
      "execution_count": null,
      "outputs": [
        {
          "output_type": "stream",
          "name": "stdout",
          "text": [
            "Authtoken saved to configuration file: /root/.config/ngrok/ngrok.yml\n"
          ]
        }
      ]
    },
    {
      "cell_type": "code",
      "source": [
        "from pyngrok import ngrok\n",
        "\n",
        "# Get list of all open tunnels\n",
        "tunnels = ngrok.get_tunnels()\n",
        "\n",
        "# Disconnect each tunnel\n",
        "for tunnel in tunnels:\n",
        "    ngrok.disconnect(tunnel.public_url)\n",
        "\n"
      ],
      "metadata": {
        "colab": {
          "base_uri": "https://localhost:8080/"
        },
        "id": "y88JTgNTv7L_",
        "outputId": "0ff6c9a0-0e90-4301-b64a-db250f487a56"
      },
      "execution_count": null,
      "outputs": [
        {
          "output_type": "stream",
          "name": "stderr",
          "text": [
            "WARNING:pyngrok.process.ngrok:t=2025-06-17T16:36:56+0000 lvl=warn msg=\"Stopping forwarder\" name=http-8501-0a97fe78-012d-4348-a6da-c99b84c93f09 acceptErr=\"failed to accept connection: Listener closed\"\n",
            "WARNING:pyngrok.process.ngrok:t=2025-06-17T16:36:56+0000 lvl=warn msg=\"Stopping forwarder\" name=http-8501-9c6bf6bc-282b-440a-9d04-f5198de6e460 acceptErr=\"failed to accept connection: Listener closed\"\n",
            "WARNING:pyngrok.process.ngrok:t=2025-06-17T16:36:56+0000 lvl=warn msg=\"Stopping forwarder\" name=http-8501-c3c0de8d-03c2-4c2d-8fea-5e4282ff8df1 acceptErr=\"failed to accept connection: Listener closed\"\n"
          ]
        }
      ]
    },
    {
      "cell_type": "code",
      "source": [
        "# 🌐 8. Start Streamlit + Ngrok\n",
        "from pyngrok import ngrok\n",
        "import time\n",
        "\n",
        "!pkill streamlit  # Stop any existing apps\n",
        "!streamlit run app.py &>/dev/null &  # Quietly start the app\n",
        "\n",
        "time.sleep(5)  # Let it boot\n",
        "public_url = ngrok.connect(addr=\"8501\", proto=\"http\")\n",
        "print(f\"✅ Your app is live at: {public_url}\")\n"
      ],
      "metadata": {
        "colab": {
          "base_uri": "https://localhost:8080/"
        },
        "id": "4La2y0JyfACS",
        "outputId": "9f1251b9-638e-4d55-db36-d30e11ed3850"
      },
      "execution_count": 53,
      "outputs": [
        {
          "output_type": "stream",
          "name": "stdout",
          "text": [
            "✅ Your app is live at: NgrokTunnel: \"https://1ef3-34-16-186-86.ngrok-free.app\" -> \"http://localhost:8501\"\n"
          ]
        }
      ]
    }
  ]
}